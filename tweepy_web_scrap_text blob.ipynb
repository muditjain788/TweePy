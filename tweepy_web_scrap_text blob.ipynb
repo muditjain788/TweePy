{
  "nbformat": 4,
  "nbformat_minor": 0,
  "metadata": {
    "colab": {
      "name": "tweepy_web_scrap.ipynb",
      "version": "0.3.2",
      "provenance": [],
      "collapsed_sections": [],
      "include_colab_link": true
    },
    "kernelspec": {
      "name": "python3",
      "display_name": "Python 3"
    }
  },
  "cells": [
    {
      "cell_type": "markdown",
      "metadata": {
        "id": "view-in-github",
        "colab_type": "text"
      },
      "source": [
        "<a href=\"https://colab.research.google.com/github/muditjain788/TweePy/blob/master/tweepy_web_scrap_text%20blob.ipynb\" target=\"_parent\"><img src=\"https://colab.research.google.com/assets/colab-badge.svg\" alt=\"Open In Colab\"/></a>"
      ]
    },
    {
      "cell_type": "code",
      "metadata": {
        "id": "0vGX3FKVLcVc",
        "colab_type": "code",
        "colab": {}
      },
      "source": [
        "import tweepy\n",
        "import matplotlib.pyplot as plt\n",
        "from textblob import TextBlob"
      ],
      "execution_count": 0,
      "outputs": []
    },
    {
      "cell_type": "code",
      "metadata": {
        "id": "Vt-gTopLLkjG",
        "colab_type": "code",
        "colab": {}
      },
      "source": [
        "#all 4 authentication keys to access twitter API\n",
        "#to connect as OAth handler or jump server /reverse proxy server\n",
        "consumer_key=\"vlSH1S0Ur83uGIdCHxnSq7UZF\"\n",
        "consumer_sec=\"yN5KSSrZpRpQUH6FpzdFEiv3ZABaXLvFL3LBKnTSes0WLnK8hW\"\n",
        "access_token=\"744064694-dy5MWH1Ostm6BR2Bwj5CvtqvZAZK9OiWyL98TEfd\"\n",
        "access_sec=\"mFuwQRLbpkIbH6ajSkA6oLUqntY0mhzmRo6xtnVwCdOl0\"\n",
        "\n",
        "#from proxy server we need to connect to web server of twitter\n",
        "\n"
      ],
      "execution_count": 0,
      "outputs": []
    },
    {
      "cell_type": "code",
      "metadata": {
        "id": "PjPE-uOZO0rC",
        "colab_type": "code",
        "colab": {}
      },
      "source": [
        "#tweepy explore\n",
        "#connecting to jump server of twitter\n",
        "auth=tweepy.OAuthHandler(consumer_key,consumer_sec)"
      ],
      "execution_count": 0,
      "outputs": []
    },
    {
      "cell_type": "code",
      "metadata": {
        "id": "Kh-nofmSPHrk",
        "colab_type": "code",
        "colab": {}
      },
      "source": [
        "#now we can connect from jump server to web serverof twiter\n",
        "auth.set_access_token(access_token,access_sec)\n",
        "api_connect=tweepy.API(auth)\n"
      ],
      "execution_count": 0,
      "outputs": []
    },
    {
      "cell_type": "code",
      "metadata": {
        "id": "J1_C3vWsPH3Y",
        "colab_type": "code",
        "colab": {}
      },
      "source": [
        "#now you can erach any topic on twitter\n",
        "tweet_data=api_connect.search('indian cricket',count=20)"
      ],
      "execution_count": 0,
      "outputs": []
    },
    {
      "cell_type": "code",
      "metadata": {
        "id": "iU7xlDT_PINW",
        "colab_type": "code",
        "outputId": "b0f41d09-2783-4c3b-95ea-54e0b3e1571b",
        "colab": {
          "base_uri": "https://localhost:8080/",
          "height": 260
        }
      },
      "source": [
        "#printing line by line\n",
        "for tweet in tweet_data:\n",
        "  #print(tweet.text)\n",
        "  analysis=TextBlob(tweet.text) #here it will aplly nlp\n",
        "  print(analysis.sentiment)"
      ],
      "execution_count": 0,
      "outputs": [
        {
          "output_type": "stream",
          "text": [
            "Sentiment(polarity=-0.4375, subjectivity=0.8624999999999999)\n",
            "Sentiment(polarity=0.0, subjectivity=0.0)\n",
            "Sentiment(polarity=0.5, subjectivity=0.5)\n",
            "Sentiment(polarity=0.0, subjectivity=0.0)\n",
            "Sentiment(polarity=0.0, subjectivity=0.0)\n",
            "Sentiment(polarity=0.0, subjectivity=0.0)\n",
            "Sentiment(polarity=0.5, subjectivity=0.5)\n",
            "Sentiment(polarity=0.5, subjectivity=0.5)\n",
            "Sentiment(polarity=0.5, subjectivity=0.5)\n",
            "Sentiment(polarity=0.0, subjectivity=0.0)\n",
            "Sentiment(polarity=0.0, subjectivity=0.0)\n",
            "Sentiment(polarity=0.0, subjectivity=0.0)\n",
            "Sentiment(polarity=0.0, subjectivity=0.0)\n",
            "Sentiment(polarity=0.0, subjectivity=0.0)\n"
          ],
          "name": "stdout"
        }
      ]
    },
    {
      "cell_type": "code",
      "metadata": {
        "id": "ijnhQYKhRx_O",
        "colab_type": "code",
        "outputId": "3b927e6c-a283-41a4-8362-dd0314af20da",
        "colab": {
          "base_uri": "https://localhost:8080/",
          "height": 523
        }
      },
      "source": [
        "#printing line by line\n",
        "for tweet in tweet_data:\n",
        "  print(tweet.text)"
      ],
      "execution_count": 0,
      "outputs": [
        {
          "output_type": "stream",
          "text": [
            "@aasiferdous I mean WTF is wrong with them? Yes they are an Indian company &amp; channel. But they are the official bro… https://t.co/4K8xircIxI\n",
            "RT @sachin_rt: Thank you for all your contribution to Indian Cricket, Ambati. Have fond memories of spending time with you during your stin…\n",
            "RT @Encountersankar: Most probably after 3 more matches my obsession towards Indian cricket will be lost😭😭😭😭😭\n",
            "#MissyouDhoni😭 https://t.co/4…\n",
            "@virendersehwag Three pillors of indian cricket\n",
            "Urologist of India, Dr. Shivkumar, wishes the Indian Cricket Team @BCCI  @ICC @cricketworldcup  #BleedBlue  #BCCI… https://t.co/JMhKorW0VE\n",
            "RT @Vidz_MSDian7: Journalist hasn't completed his question, Michael rushed to defend MS DHONI speaks volumes about the contribution of #Dho…\n",
            "RT @Encountersankar: Most probably after 3 more matches my obsession towards Indian cricket will be lost😭😭😭😭😭\n",
            "#MissyouDhoni😭 https://t.co/4…\n",
            "RT @Encountersankar: Most probably after 3 more matches my obsession towards Indian cricket will be lost😭😭😭😭😭\n",
            "#MissyouDhoni😭 https://t.co/4…\n",
            "RT @Encountersankar: Most probably after 3 more matches my obsession towards Indian cricket will be lost😭😭😭😭😭\n",
            "#MissyouDhoni😭 https://t.co/4…\n",
            "RT @HRCIndia: Ajit Agarkar was a part of the Indian Cricket Team for the T20 World Cup in the year ____.\n",
            "\n",
            "a. 2007\n",
            "b. 2011\n",
            "c. 2003\n",
            "d. 2014…\n",
            "RT @IndianOilcl: Don’t forget to visit an #IndianOil petrol pump to take part in our #CricketCarnival. All you have to do is refuel your ve…\n",
            "RT @sachin_rt: Thank you for all your contribution to Indian Cricket, Ambati. Have fond memories of spending time with you during your stin…\n",
            "RT @Vidz_MSDian7: Journalist hasn't completed his question, Michael rushed to defend MS DHONI speaks volumes about the contribution of #Dho…\n",
            "RT @HRCIndia: Ajit Agarkar was a part of the Indian Cricket Team for the T20 World Cup in the year ____.\n",
            "\n",
            "a. 2007\n",
            "b. 2011\n",
            "c. 2003\n",
            "d. 2014…\n"
          ],
          "name": "stdout"
        }
      ]
    },
    {
      "cell_type": "code",
      "metadata": {
        "id": "J-hPLh9iQZfG",
        "colab_type": "code",
        "outputId": "024c32b7-d35e-4e8e-f5a8-402c854a6f83",
        "colab": {
          "base_uri": "https://localhost:8080/",
          "height": 521
        }
      },
      "source": [
        "pos=0\n",
        "neg=0\n",
        "neu=0\n",
        "#printing line by line\n",
        "for tweet in tweet_data:\n",
        "  analysis=TextBlob(tweet.text) #here it will aplly nlp\n",
        "  print(analysis.sentiment)\n",
        "  #now checking polarity only\n",
        "  if analysis.sentiment.polarity >0:\n",
        "    print('positive')\n",
        "    pos=pos+1\n",
        "  elif analysis.sentiment.polarity==0:\n",
        "    print('neutral')\n",
        "    neu=neu+1\n",
        "  else:\n",
        "    print('negative')\n",
        "    neg=neg+1\n",
        "  \n",
        "print(pos,neu,neg)  "
      ],
      "execution_count": 0,
      "outputs": [
        {
          "output_type": "stream",
          "text": [
            "Sentiment(polarity=-0.4375, subjectivity=0.8624999999999999)\n",
            "negative\n",
            "Sentiment(polarity=0.0, subjectivity=0.0)\n",
            "neutral\n",
            "Sentiment(polarity=0.5, subjectivity=0.5)\n",
            "positive\n",
            "Sentiment(polarity=0.0, subjectivity=0.0)\n",
            "neutral\n",
            "Sentiment(polarity=0.0, subjectivity=0.0)\n",
            "neutral\n",
            "Sentiment(polarity=0.0, subjectivity=0.0)\n",
            "neutral\n",
            "Sentiment(polarity=0.5, subjectivity=0.5)\n",
            "positive\n",
            "Sentiment(polarity=0.5, subjectivity=0.5)\n",
            "positive\n",
            "Sentiment(polarity=0.5, subjectivity=0.5)\n",
            "positive\n",
            "Sentiment(polarity=0.0, subjectivity=0.0)\n",
            "neutral\n",
            "Sentiment(polarity=0.0, subjectivity=0.0)\n",
            "neutral\n",
            "Sentiment(polarity=0.0, subjectivity=0.0)\n",
            "neutral\n",
            "Sentiment(polarity=0.0, subjectivity=0.0)\n",
            "neutral\n",
            "Sentiment(polarity=0.0, subjectivity=0.0)\n",
            "neutral\n",
            "4 9 1\n"
          ],
          "name": "stdout"
        }
      ]
    },
    {
      "cell_type": "code",
      "metadata": {
        "id": "wjF-Dw_CQZ40",
        "colab_type": "code",
        "outputId": "70abe5ba-672f-4e19-aaa7-d39f9ce914f9",
        "colab": {
          "base_uri": "https://localhost:8080/",
          "height": 422
        }
      },
      "source": [
        "#plotting graphs of sentiment\n",
        "plt.xlabel('tags')\n",
        "plt.ylabel('polarity')\n",
        "#plt.bar(['pos','neg','neu'],[pos,neu,neg])\n",
        "plt.pie([pos,neg,neu],labels=[\"pos\",\"neg\",\"neu\"],autopct=\"%f%%\")"
      ],
      "execution_count": 0,
      "outputs": [
        {
          "output_type": "execute_result",
          "data": {
            "text/plain": [
              "([<matplotlib.patches.Wedge at 0x7ff97c9aa748>,\n",
              "  <matplotlib.patches.Wedge at 0x7ff97c9a7fd0>,\n",
              "  <matplotlib.patches.Wedge at 0x7ff97c9a7898>],\n",
              " [Text(0.6858387475358717, 0.8600146582346299, 'pos'),\n",
              "  Text(-0.47727220250564617, 0.9910657116031256, 'neg'),\n",
              "  Text(-0.47727204012267027, -0.9910657898026469, 'neu')],\n",
              " [Text(0.37409386229229363, 0.4690989044916162, '28.571430%'),\n",
              "  Text(-0.260330292275807, 0.5405812972380685, '7.142857%'),\n",
              "  Text(-0.2603302037032747, -0.5405813398923528, '64.285713%')])"
            ]
          },
          "metadata": {
            "tags": []
          },
          "execution_count": 17
        },
        {
          "output_type": "display_data",
          "data": {
            "image/png": "[encoded data removed]",
            "text/plain": [
              "<Figure size 432x288 with 1 Axes>"
            ]
          },
          "metadata": {
            "tags": []
          }
        }
      ]
    }
  ]
}